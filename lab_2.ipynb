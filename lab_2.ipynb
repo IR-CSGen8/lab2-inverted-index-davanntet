{
 "cells": [
  {
   "cell_type": "code",
   "execution_count": 21,
   "id": "81d8d80a",
   "metadata": {
    "ExecuteTime": {
     "end_time": "2023-09-28T10:02:54.550902800Z",
     "start_time": "2023-09-28T10:02:54.496468700Z"
    }
   },
   "outputs": [
    {
     "data": {
      "text/plain": "                                                       Content\nDocument ID                                                   \n1            {\\r\\n   \"title\": \"Introduction to Python\",\\r\\n...\n2            {\\r\\n   \"title\": \"Data Analysis with Pandas\",\\...\n3            {\\r\\n   \"title\": \"Web Development with Flask\",...\n4            {\\r\\n   \"title\": \"Machine Learning with Scikit...\n5            {\\r\\n   \"title\": \"Data Visualization with Matp...",
      "text/html": "<div>\n<style scoped>\n    .dataframe tbody tr th:only-of-type {\n        vertical-align: middle;\n    }\n\n    .dataframe tbody tr th {\n        vertical-align: top;\n    }\n\n    .dataframe thead th {\n        text-align: right;\n    }\n</style>\n<table border=\"1\" class=\"dataframe\">\n  <thead>\n    <tr style=\"text-align: right;\">\n      <th></th>\n      <th>Content</th>\n    </tr>\n    <tr>\n      <th>Document ID</th>\n      <th></th>\n    </tr>\n  </thead>\n  <tbody>\n    <tr>\n      <th>1</th>\n      <td>{\\r\\n   \"title\": \"Introduction to Python\",\\r\\n...</td>\n    </tr>\n    <tr>\n      <th>2</th>\n      <td>{\\r\\n   \"title\": \"Data Analysis with Pandas\",\\...</td>\n    </tr>\n    <tr>\n      <th>3</th>\n      <td>{\\r\\n   \"title\": \"Web Development with Flask\",...</td>\n    </tr>\n    <tr>\n      <th>4</th>\n      <td>{\\r\\n   \"title\": \"Machine Learning with Scikit...</td>\n    </tr>\n    <tr>\n      <th>5</th>\n      <td>{\\r\\n   \"title\": \"Data Visualization with Matp...</td>\n    </tr>\n  </tbody>\n</table>\n</div>"
     },
     "execution_count": 21,
     "metadata": {},
     "output_type": "execute_result"
    }
   ],
   "source": [
    "import numpy as np\n",
    "# Import necessary libraries\n",
    "import pandas as pd\n",
    "import json\n",
    "import nltk\n",
    "\n",
    "from nltk.corpus import stopwords\n",
    "# Load the CSV dataset\n",
    "df = pd.read_csv(\"semi_strut.csv\")\n",
    "\n",
    "# Display the first few rows of the dataset\n",
    "df.set_index(\"Document ID\",inplace=True)\n",
    "df"
   ]
  },
  {
   "cell_type": "code",
   "execution_count": 22,
   "id": "a5ea1871",
   "metadata": {
    "ExecuteTime": {
     "end_time": "2023-09-28T10:02:54.731917500Z",
     "start_time": "2023-09-28T10:02:54.516899700Z"
    }
   },
   "outputs": [
    {
     "name": "stderr",
     "output_type": "stream",
     "text": [
      "[nltk_data] Downloading package stopwords to\n",
      "[nltk_data]     C:\\Users\\davan\\AppData\\Roaming\\nltk_data...\n",
      "[nltk_data]   Package stopwords is already up-to-date!\n",
      "[nltk_data] Downloading package stopwords to\n",
      "[nltk_data]     C:\\Users\\davan\\AppData\\Roaming\\nltk_data...\n",
      "[nltk_data]   Package stopwords is already up-to-date!\n",
      "[nltk_data] Downloading package stopwords to\n",
      "[nltk_data]     C:\\Users\\davan\\AppData\\Roaming\\nltk_data...\n",
      "[nltk_data]   Package stopwords is already up-to-date!\n",
      "[nltk_data] Downloading package stopwords to\n",
      "[nltk_data]     C:\\Users\\davan\\AppData\\Roaming\\nltk_data...\n",
      "[nltk_data]   Package stopwords is already up-to-date!\n",
      "[nltk_data] Downloading package stopwords to\n",
      "[nltk_data]     C:\\Users\\davan\\AppData\\Roaming\\nltk_data...\n",
      "[nltk_data]   Package stopwords is already up-to-date!\n"
     ]
    },
    {
     "data": {
      "text/plain": "                                                       Content  \\\nDocument ID                                                      \n1            {\\r\\n   \"title\": \"Introduction to Python\",\\r\\n...   \n2            {\\r\\n   \"title\": \"Data Analysis with Pandas\",\\...   \n3            {\\r\\n   \"title\": \"Web Development with Flask\",...   \n4            {\\r\\n   \"title\": \"Machine Learning with Scikit...   \n5            {\\r\\n   \"title\": \"Data Visualization with Matp...   \n\n                                                          Term  \nDocument ID                                                     \n1            {easy, getting, programming, basic, understand...  \n2            {library, python, data, analysis, popular, cor...  \n3            {getting, routing, url, web, framework, develo...  \n4            {artificial, learning, python, scikitlearn, su...  \n5            {plots, visualization, data visualization, var...  ",
      "text/html": "<div>\n<style scoped>\n    .dataframe tbody tr th:only-of-type {\n        vertical-align: middle;\n    }\n\n    .dataframe tbody tr th {\n        vertical-align: top;\n    }\n\n    .dataframe thead th {\n        text-align: right;\n    }\n</style>\n<table border=\"1\" class=\"dataframe\">\n  <thead>\n    <tr style=\"text-align: right;\">\n      <th></th>\n      <th>Content</th>\n      <th>Term</th>\n    </tr>\n    <tr>\n      <th>Document ID</th>\n      <th></th>\n      <th></th>\n    </tr>\n  </thead>\n  <tbody>\n    <tr>\n      <th>1</th>\n      <td>{\\r\\n   \"title\": \"Introduction to Python\",\\r\\n...</td>\n      <td>{easy, getting, programming, basic, understand...</td>\n    </tr>\n    <tr>\n      <th>2</th>\n      <td>{\\r\\n   \"title\": \"Data Analysis with Pandas\",\\...</td>\n      <td>{library, python, data, analysis, popular, cor...</td>\n    </tr>\n    <tr>\n      <th>3</th>\n      <td>{\\r\\n   \"title\": \"Web Development with Flask\",...</td>\n      <td>{getting, routing, url, web, framework, develo...</td>\n    </tr>\n    <tr>\n      <th>4</th>\n      <td>{\\r\\n   \"title\": \"Machine Learning with Scikit...</td>\n      <td>{artificial, learning, python, scikitlearn, su...</td>\n    </tr>\n    <tr>\n      <th>5</th>\n      <td>{\\r\\n   \"title\": \"Data Visualization with Matp...</td>\n      <td>{plots, visualization, data visualization, var...</td>\n    </tr>\n  </tbody>\n</table>\n</div>"
     },
     "execution_count": 22,
     "metadata": {},
     "output_type": "execute_result"
    }
   ],
   "source": [
    "import string\n",
    "\n",
    "\n",
    "# Tokenization function to extract terms from the JSON-like content\n",
    "def tokenize_content(cont):\n",
    "    content = json.loads(cont)\n",
    "    extract_title = content[\"title\"]\n",
    "    extract_keywords = content[\"keywords\"]\n",
    "    # extract_content = content[\"content\"]\n",
    "    extract_sections = content[\"sections\"]\n",
    "    section_title=[]\n",
    "    section_content=[]\n",
    "    for x in extract_sections:\n",
    "        section_title.append(x[\"title\"])\n",
    "        section_content.append(x[\"content\"])\n",
    "    \n",
    "    arr_content = str(extract_title).split(\" \")+extract_keywords+[x for c in section_title for x in c.split(\" \")]+[x for c in section_content for x in c.split(\" \")]\n",
    "    arr_content = np.array(arr_content)\n",
    "    Terms_preprocessed = np.char.lower(arr_content)\n",
    "    #remove punctuation\n",
    "    translator = str.maketrans('', '', string.punctuation)\n",
    "    Terms_preprocessed = np.char.translate(Terms_preprocessed, translator)\n",
    "    # remove stopword\n",
    "    nltk.download('stopwords')\n",
    "    stop_word = set(stopwords.words('english'))\n",
    "    Terms_preprocessed = set(Terms_preprocessed).difference(stop_word)\n",
    "    \n",
    "    return Terms_preprocessed\n",
    "    \n",
    "        \n",
    "# print(extract_sections)\n",
    "# Remember to exact both \n",
    "# 1 .Extract terms from various fields (title, keywords, and content)\n",
    "# 2. Extract terms from sections' titles and content\n",
    "# 3. Tokenize the content and create a new column \"Terms\"\n",
    "# 4. Implement a preprocessing function that converts terms to lowercase, removes punctuation, and removes common stop words.\n",
    "    # Create another new column \"Terms_preprocessed\"\n",
    "# 5. you can display the DataFrame\n",
    "# def tokenize_content(content):\n",
    "\n",
    "# list_content = df[\"Content\"].apply(lambda x: tokenize_content(x))\n",
    "list_content = df[\"Content\"].apply(tokenize_content)\n",
    "# list_content\n",
    "\n",
    "\n",
    "dff = df.copy()\n",
    "dff[\"Term\"] = list_content\n",
    "dff\n"
   ]
  },
  {
   "cell_type": "code",
   "execution_count": 23,
   "id": "131fdcaf",
   "metadata": {
    "ExecuteTime": {
     "end_time": "2023-09-28T10:02:54.732904700Z",
     "start_time": "2023-09-28T10:02:54.651766Z"
    }
   },
   "outputs": [
    {
     "data": {
      "text/plain": "{'easy': {1},\n 'getting': {1, 3},\n 'programming': {1},\n 'basic': {1},\n 'understand': {1},\n 'python': {1, 2, 3, 4, 5},\n 'versatile': {1, 5},\n 'syntax': {1},\n 'started': {1, 3},\n 'language': {1},\n 'introduction': {1, 2, 4, 5},\n 'beginner': {1},\n 'library': {2, 5},\n 'data': {2, 5},\n 'analysis': {2},\n 'popular': {2},\n 'core': {2},\n 'pandas': {2},\n 'dataframes': {2},\n 'structure': {2},\n 'data analysis': {2},\n 'routing': {3},\n 'url': {3},\n 'web': {3},\n 'framework': {3},\n 'development': {3},\n 'web development': {3},\n 'defines': {3},\n 'patterns': {3},\n 'flask': {3},\n 'lightweight': {3},\n 'views': {3},\n 'artificial': {4},\n 'learning': {4},\n 'scikitlearn': {4},\n 'subfield': {4},\n 'machine learning': {4},\n 'intelligence': {4},\n 'type': {4},\n 'machine': {4},\n 'supervised': {4},\n 'plots': {5},\n 'visualization': {5},\n 'data visualization': {5},\n 'various': {5},\n 'matplotlib': {5},\n 'using': {5},\n 'creating': {5},\n 'functions': {5},\n 'created': {5}}"
     },
     "execution_count": 23,
     "metadata": {},
     "output_type": "execute_result"
    }
   ],
   "source": [
    "# Initialize an empty inverted index dictionary\n",
    "inverted_index = {}\n",
    "# Build the inverted index\n",
    "for index, row in dff.iterrows():\n",
    "    for term in row[\"Term\"]:\n",
    "        if term not in inverted_index:\n",
    "            inverted_index[term] = set()\n",
    "            inverted_index[term].add(index)\n",
    "        else:\n",
    "            inverted_index[term].add(index)\n",
    "inverted_index"
   ]
  },
  {
   "cell_type": "code",
   "execution_count": 24,
   "id": "4824b570",
   "metadata": {
    "ExecuteTime": {
     "end_time": "2023-09-28T10:02:54.732904700Z",
     "start_time": "2023-09-28T10:02:54.668974200Z"
    }
   },
   "outputs": [
    {
     "data": {
      "text/plain": "dict_keys(['easy', 'getting', 'programming', 'basic', 'understand', 'python', 'versatile', 'syntax', 'started', 'language', 'introduction', 'beginner', 'library', 'data', 'analysis', 'popular', 'core', 'pandas', 'dataframes', 'structure', 'data analysis', 'routing', 'url', 'web', 'framework', 'development', 'web development', 'defines', 'patterns', 'flask', 'lightweight', 'views', 'artificial', 'learning', 'scikitlearn', 'subfield', 'machine learning', 'intelligence', 'type', 'machine', 'supervised', 'plots', 'visualization', 'data visualization', 'various', 'matplotlib', 'using', 'creating', 'functions', 'created'])"
     },
     "execution_count": 24,
     "metadata": {},
     "output_type": "execute_result"
    }
   ],
   "source": [
    "# Initialize an empty inverted index dictionary the extracted terms \n",
    "inverted_index_terms = inverted_index.keys()\n",
    "inverted_index_terms"
   ]
  },
  {
   "cell_type": "code",
   "execution_count": 25,
   "id": "1b929397",
   "metadata": {
    "ExecuteTime": {
     "end_time": "2023-09-28T10:02:54.733913400Z",
     "start_time": "2023-09-28T10:02:54.683931900Z"
    }
   },
   "outputs": [
    {
     "data": {
      "text/plain": "   Document ID                                            Content\n0            2  {\\r\\n   \"title\": \"Data Analysis with Pandas\",\\...\n1            5  {\\r\\n   \"title\": \"Data Visualization with Matp...",
      "text/html": "<div>\n<style scoped>\n    .dataframe tbody tr th:only-of-type {\n        vertical-align: middle;\n    }\n\n    .dataframe tbody tr th {\n        vertical-align: top;\n    }\n\n    .dataframe thead th {\n        text-align: right;\n    }\n</style>\n<table border=\"1\" class=\"dataframe\">\n  <thead>\n    <tr style=\"text-align: right;\">\n      <th></th>\n      <th>Document ID</th>\n      <th>Content</th>\n    </tr>\n  </thead>\n  <tbody>\n    <tr>\n      <th>0</th>\n      <td>2</td>\n      <td>{\\r\\n   \"title\": \"Data Analysis with Pandas\",\\...</td>\n    </tr>\n    <tr>\n      <th>1</th>\n      <td>5</td>\n      <td>{\\r\\n   \"title\": \"Data Visualization with Matp...</td>\n    </tr>\n  </tbody>\n</table>\n</div>"
     },
     "execution_count": 25,
     "metadata": {},
     "output_type": "execute_result"
    }
   ],
   "source": [
    "# perform boolean operations on postings lists for Boolean search operations\n",
    "# 1. \"Python\" OR \"Pandas\"\n",
    "\n",
    "Keyword_1 = \"Python\"\n",
    "Keyword_2 = \"Pandas\"\n",
    "search_1 = inverted_index[Keyword_1.lower()]\n",
    "search_2 = inverted_index[Keyword_2.lower()]\n",
    "search_result1 = search_1.union(search_2)\n",
    "\n",
    "# 2. \"Python\" AND \"data\"\n",
    "Keyword_1 = \"Python\"\n",
    "Keyword_2 = \"data\"\n",
    "search_1 = inverted_index[Keyword_1.lower()]\n",
    "search_2 = inverted_index[Keyword_2.lower()]\n",
    "search_result2 = search_1.intersection(search_2)\n",
    "\n",
    "final_result = []\n",
    "final_id = []\n",
    "for idx in search_result2:\n",
    "    final_result.append(df['Content'][idx])\n",
    "    final_id.append(df.index.tolist()[idx-1])\n",
    "import pandas as pd\n",
    "pd.DataFrame({'Document ID':final_id,'Content':final_result})"
   ]
  }
 ],
 "metadata": {
  "kernelspec": {
   "name": "python3",
   "language": "python",
   "display_name": "Python 3 (ipykernel)"
  },
  "language_info": {
   "codemirror_mode": {
    "name": "ipython",
    "version": 3
   },
   "file_extension": ".py",
   "mimetype": "text/x-python",
   "name": "python",
   "nbconvert_exporter": "python",
   "pygments_lexer": "ipython3",
   "version": "3.9.2"
  }
 },
 "nbformat": 4,
 "nbformat_minor": 5
}
