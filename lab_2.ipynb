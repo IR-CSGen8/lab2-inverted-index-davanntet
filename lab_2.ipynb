{
 "cells": [
  {
   "cell_type": "code",
   "execution_count": 99,
   "id": "81d8d80a",
   "metadata": {
    "ExecuteTime": {
     "end_time": "2023-09-28T08:03:13.639930500Z",
     "start_time": "2023-09-28T08:03:13.607104300Z"
    }
   },
   "outputs": [
    {
     "data": {
      "text/plain": "                                                       Content\nDocument ID                                                   \n1            {\\r\\n   \"title\": \"Introduction to Python\",\\r\\n...\n2            {\\r\\n   \"title\": \"Data Analysis with Pandas\",\\...\n3            {\\r\\n   \"title\": \"Web Development with Flask\",...\n4            {\\r\\n   \"title\": \"Machine Learning with Scikit...\n5            {\\r\\n   \"title\": \"Data Visualization with Matp...",
      "text/html": "<div>\n<style scoped>\n    .dataframe tbody tr th:only-of-type {\n        vertical-align: middle;\n    }\n\n    .dataframe tbody tr th {\n        vertical-align: top;\n    }\n\n    .dataframe thead th {\n        text-align: right;\n    }\n</style>\n<table border=\"1\" class=\"dataframe\">\n  <thead>\n    <tr style=\"text-align: right;\">\n      <th></th>\n      <th>Content</th>\n    </tr>\n    <tr>\n      <th>Document ID</th>\n      <th></th>\n    </tr>\n  </thead>\n  <tbody>\n    <tr>\n      <th>1</th>\n      <td>{\\r\\n   \"title\": \"Introduction to Python\",\\r\\n...</td>\n    </tr>\n    <tr>\n      <th>2</th>\n      <td>{\\r\\n   \"title\": \"Data Analysis with Pandas\",\\...</td>\n    </tr>\n    <tr>\n      <th>3</th>\n      <td>{\\r\\n   \"title\": \"Web Development with Flask\",...</td>\n    </tr>\n    <tr>\n      <th>4</th>\n      <td>{\\r\\n   \"title\": \"Machine Learning with Scikit...</td>\n    </tr>\n    <tr>\n      <th>5</th>\n      <td>{\\r\\n   \"title\": \"Data Visualization with Matp...</td>\n    </tr>\n  </tbody>\n</table>\n</div>"
     },
     "execution_count": 99,
     "metadata": {},
     "output_type": "execute_result"
    }
   ],
   "source": [
    "import numpy as np\n",
    "# Import necessary libraries\n",
    "import pandas as pd\n",
    "import json\n",
    "import nltk\n",
    "\n",
    "from nltk.corpus import stopwords\n",
    "# Load the CSV dataset\n",
    "df = pd.read_csv(\"semi_strut.csv\")\n",
    "\n",
    "# Display the first few rows of the dataset\n",
    "df.set_index(\"Document ID\",inplace=True)\n",
    "df"
   ]
  },
  {
   "cell_type": "code",
   "execution_count": 100,
   "id": "a5ea1871",
   "metadata": {
    "ExecuteTime": {
     "end_time": "2023-09-28T08:03:28.213068500Z",
     "start_time": "2023-09-28T08:03:28.176586400Z"
    }
   },
   "outputs": [
    {
     "name": "stderr",
     "output_type": "stream",
     "text": [
      "[nltk_data] Downloading package stopwords to\n",
      "[nltk_data]     C:\\Users\\davan\\AppData\\Roaming\\nltk_data...\n",
      "[nltk_data]   Package stopwords is already up-to-date!\n",
      "[nltk_data] Downloading package stopwords to\n",
      "[nltk_data]     C:\\Users\\davan\\AppData\\Roaming\\nltk_data...\n",
      "[nltk_data]   Package stopwords is already up-to-date!\n",
      "[nltk_data] Downloading package stopwords to\n",
      "[nltk_data]     C:\\Users\\davan\\AppData\\Roaming\\nltk_data...\n",
      "[nltk_data]   Package stopwords is already up-to-date!\n",
      "[nltk_data] Downloading package stopwords to\n",
      "[nltk_data]     C:\\Users\\davan\\AppData\\Roaming\\nltk_data...\n",
      "[nltk_data]   Package stopwords is already up-to-date!\n",
      "[nltk_data] Downloading package stopwords to\n",
      "[nltk_data]     C:\\Users\\davan\\AppData\\Roaming\\nltk_data...\n",
      "[nltk_data]   Package stopwords is already up-to-date!\n"
     ]
    },
    {
     "data": {
      "text/plain": "                                                       Content\nDocument ID                                                   \n1            {started, python, getting, beginner, programmi...\n2            {popular, pandas, python, data, structure, lib...\n3            {web, url, defines, started, python, getting, ...\n4            {intelligence, python, machine, learning, supe...\n5            {using, various, matplotlib, python, data, lib...",
      "text/html": "<div>\n<style scoped>\n    .dataframe tbody tr th:only-of-type {\n        vertical-align: middle;\n    }\n\n    .dataframe tbody tr th {\n        vertical-align: top;\n    }\n\n    .dataframe thead th {\n        text-align: right;\n    }\n</style>\n<table border=\"1\" class=\"dataframe\">\n  <thead>\n    <tr style=\"text-align: right;\">\n      <th></th>\n      <th>Content</th>\n    </tr>\n    <tr>\n      <th>Document ID</th>\n      <th></th>\n    </tr>\n  </thead>\n  <tbody>\n    <tr>\n      <th>1</th>\n      <td>{started, python, getting, beginner, programmi...</td>\n    </tr>\n    <tr>\n      <th>2</th>\n      <td>{popular, pandas, python, data, structure, lib...</td>\n    </tr>\n    <tr>\n      <th>3</th>\n      <td>{web, url, defines, started, python, getting, ...</td>\n    </tr>\n    <tr>\n      <th>4</th>\n      <td>{intelligence, python, machine, learning, supe...</td>\n    </tr>\n    <tr>\n      <th>5</th>\n      <td>{using, various, matplotlib, python, data, lib...</td>\n    </tr>\n  </tbody>\n</table>\n</div>"
     },
     "execution_count": 100,
     "metadata": {},
     "output_type": "execute_result"
    }
   ],
   "source": [
    "import string\n",
    "\n",
    "\n",
    "# Tokenization function to extract terms from the JSON-like content\n",
    "def tokenize_content(cont):\n",
    "    content = json.loads(cont)\n",
    "    extract_title = content[\"title\"]\n",
    "    extract_keywords = content[\"keywords\"]\n",
    "    # extract_content = content[\"content\"]\n",
    "    extract_sections = content[\"sections\"]\n",
    "    section_title=[]\n",
    "    section_content=[]\n",
    "    for x in extract_sections:\n",
    "        section_title.append(x[\"title\"])\n",
    "        section_content.append(x[\"content\"])\n",
    "    \n",
    "    arr_content = str(extract_title).split(\" \")+extract_keywords+[x for c in section_title for x in c.split(\" \")]+[x for c in section_content for x in c.split(\" \")]\n",
    "    arr_content = np.array(arr_content)\n",
    "    arr_content = np.char.lower(arr_content)\n",
    "    #remove punctuation\n",
    "    translator = str.maketrans('', '', string.punctuation)\n",
    "    arr_content = np.char.translate(arr_content, translator)\n",
    "    # remove stopword\n",
    "    nltk.download('stopwords')\n",
    "    stop_word = set(stopwords.words('english'))\n",
    "    arr_content = set(arr_content).difference(stop_word)\n",
    "    \n",
    "    return arr_content\n",
    "    \n",
    "    \n",
    "    \n",
    "    \n",
    "        \n",
    "        \n",
    "# print(extract_sections)\n",
    "# Remember to exact both \n",
    "# 1 .Extract terms from various fields (title, keywords, and content)\n",
    "# 2. Extract terms from sections' titles and content\n",
    "# 3. Tokenize the content and create a new column \"Terms\"\n",
    "# 4. Implement a preprocessing function that converts terms to lowercase, removes punctuation, and removes common stop words.\n",
    "    # Create another new column \"Terms_preprocessed\"\n",
    "# 5. you can display the DataFrame\n",
    "# def tokenize_content(content):\n",
    "\n",
    "# def tokenize_content(content):\n",
    "# tokenize_content(df[\"Content\"][0])\n",
    "# print(df[\"Content\"][0])\n",
    "\n",
    "# list_content = []\n",
    "# for x in tokenize_content(df[\"Content\"]):\n",
    "#     print(x[0])\n",
    "# list_content\n",
    "list_content = df[\"Content\"].apply(lambda x: tokenize_content(x))\n",
    "# list_content\n",
    "\n",
    "dff = df.copy()\n",
    "dff[\"Content\"] = list_content\n",
    "dff\n",
    "# print(df[\"Content\"])"
   ]
  },
  {
   "cell_type": "code",
   "execution_count": 97,
   "id": "27def6ed",
   "metadata": {
    "ExecuteTime": {
     "end_time": "2023-09-28T07:56:13.370983200Z",
     "start_time": "2023-09-28T07:56:13.355069400Z"
    }
   },
   "outputs": [],
   "source": [
    "dff.to_csv(\"test.csv\")"
   ]
  },
  {
   "cell_type": "code",
   "execution_count": 103,
   "id": "131fdcaf",
   "metadata": {
    "ExecuteTime": {
     "end_time": "2023-09-28T08:04:15.101358900Z",
     "start_time": "2023-09-28T08:04:15.088212700Z"
    }
   },
   "outputs": [
    {
     "data": {
      "text/plain": "{'started': {1, 3},\n 'python': {1, 2, 3, 4, 5},\n 'getting': {1, 3},\n 'beginner': {1},\n 'programming': {1},\n 'understand': {1},\n 'basic': {1},\n 'versatile': {1, 5},\n 'easy': {1},\n 'introduction': {1, 2, 4, 5},\n 'language': {1},\n 'syntax': {1},\n 'popular': {2},\n 'pandas': {2},\n 'data': {2, 5},\n 'structure': {2},\n 'library': {2, 5},\n 'analysis': {2},\n 'dataframes': {2},\n 'core': {2},\n 'data analysis': {2},\n 'web': {3},\n 'url': {3},\n 'defines': {3},\n 'views': {3},\n 'framework': {3},\n 'web development': {3},\n 'lightweight': {3},\n 'flask': {3},\n 'routing': {3},\n 'development': {3},\n 'patterns': {3},\n 'intelligence': {4},\n 'machine': {4},\n 'learning': {4},\n 'supervised': {4},\n 'subfield': {4},\n 'artificial': {4},\n 'type': {4},\n 'scikitlearn': {4},\n 'machine learning': {4},\n 'using': {5},\n 'various': {5},\n 'matplotlib': {5},\n 'functions': {5},\n 'plots': {5},\n 'created': {5},\n 'visualization': {5},\n 'creating': {5},\n 'data visualization': {5}}"
     },
     "execution_count": 103,
     "metadata": {},
     "output_type": "execute_result"
    }
   ],
   "source": [
    "# Initialize an empty inverted index dictionary\n",
    "inverted_index = {}\n",
    "# Build the inverted index\n",
    "for index, row in dff.iterrows():\n",
    "    for term in row[\"Content\"]:\n",
    "        if term not in inverted_index:\n",
    "            inverted_index[term] = set()\n",
    "            inverted_index[term].add(index)\n",
    "        else:\n",
    "            inverted_index[term].add(index)\n",
    "inverted_index"
   ]
  },
  {
   "cell_type": "code",
   "execution_count": 80,
   "outputs": [
    {
     "name": "stdout",
     "output_type": "stream",
     "text": [
      "<generator object DataFrame.iterrows at 0x000001A1242F5690>\n"
     ]
    }
   ],
   "source": [],
   "metadata": {
    "collapsed": false,
    "ExecuteTime": {
     "end_time": "2023-09-28T07:31:58.416187600Z",
     "start_time": "2023-09-28T07:31:58.408827200Z"
    }
   },
   "id": "ee14719c0536db05"
  },
  {
   "cell_type": "code",
   "execution_count": 115,
   "id": "4824b570",
   "metadata": {
    "ExecuteTime": {
     "end_time": "2023-09-28T08:15:44.990832300Z",
     "start_time": "2023-09-28T08:15:44.980317600Z"
    }
   },
   "outputs": [
    {
     "data": {
      "text/plain": "dict_keys(['started', 'python', 'getting', 'beginner', 'programming', 'understand', 'basic', 'versatile', 'easy', 'introduction', 'language', 'syntax', 'popular', 'pandas', 'data', 'structure', 'library', 'analysis', 'dataframes', 'core', 'data analysis', 'web', 'url', 'defines', 'views', 'framework', 'web development', 'lightweight', 'flask', 'routing', 'development', 'patterns', 'intelligence', 'machine', 'learning', 'supervised', 'subfield', 'artificial', 'type', 'scikitlearn', 'machine learning', 'using', 'various', 'matplotlib', 'functions', 'plots', 'created', 'visualization', 'creating', 'data visualization'])"
     },
     "execution_count": 115,
     "metadata": {},
     "output_type": "execute_result"
    }
   ],
   "source": [
    "# Initialize an empty inverted index dictionary the extracted terms \n",
    "inverted_index_terms = inverted_index.keys()\n",
    "inverted_index_terms"
   ]
  },
  {
   "cell_type": "code",
   "execution_count": 113,
   "id": "1b929397",
   "metadata": {
    "ExecuteTime": {
     "end_time": "2023-09-28T08:09:46.750096600Z",
     "start_time": "2023-09-28T08:09:46.744703800Z"
    }
   },
   "outputs": [
    {
     "data": {
      "text/plain": "   Document ID                                            Content\n0            2  {\\r\\n   \"title\": \"Data Analysis with Pandas\",\\...\n1            5  {\\r\\n   \"title\": \"Data Visualization with Matp...",
      "text/html": "<div>\n<style scoped>\n    .dataframe tbody tr th:only-of-type {\n        vertical-align: middle;\n    }\n\n    .dataframe tbody tr th {\n        vertical-align: top;\n    }\n\n    .dataframe thead th {\n        text-align: right;\n    }\n</style>\n<table border=\"1\" class=\"dataframe\">\n  <thead>\n    <tr style=\"text-align: right;\">\n      <th></th>\n      <th>Document ID</th>\n      <th>Content</th>\n    </tr>\n  </thead>\n  <tbody>\n    <tr>\n      <th>0</th>\n      <td>2</td>\n      <td>{\\r\\n   \"title\": \"Data Analysis with Pandas\",\\...</td>\n    </tr>\n    <tr>\n      <th>1</th>\n      <td>5</td>\n      <td>{\\r\\n   \"title\": \"Data Visualization with Matp...</td>\n    </tr>\n  </tbody>\n</table>\n</div>"
     },
     "execution_count": 113,
     "metadata": {},
     "output_type": "execute_result"
    }
   ],
   "source": [
    "# perform boolean operations on postings lists for Boolean search operations\n",
    "# 1. \"Python\" OR \"Pandas\"\n",
    "\n",
    "Keyword_1 = \"Python\"\n",
    "Keyword_2 = \"Pandas\"\n",
    "search_1 = inverted_index[Keyword_1.lower()]\n",
    "search_2 = inverted_index[Keyword_2.lower()]\n",
    "search_result1 = search_1.union(search_2)\n",
    "\n",
    "# 2. \"Python\" AND \"data\"\n",
    "Keyword_1 = \"Python\"\n",
    "Keyword_2 = \"data\"\n",
    "search_1 = inverted_index[Keyword_1.lower()]\n",
    "search_2 = inverted_index[Keyword_2.lower()]\n",
    "search_result2 = search_1.intersection(search_2)\n",
    "\n",
    "final_result = []\n",
    "final_id = []\n",
    "for idx in search_result2:\n",
    "    final_result.append(df['Content'][idx])\n",
    "    final_id.append(df.index.tolist()[idx-1])\n",
    "import pandas as pd\n",
    "pd.DataFrame({'Document ID':final_id,'Content':final_result})"
   ]
  },
  {
   "cell_type": "code",
   "execution_count": 95,
   "outputs": [
    {
     "data": {
      "text/plain": "{33: None,\n 34: None,\n 35: None,\n 36: None,\n 37: None,\n 38: None,\n 39: None,\n 40: None,\n 41: None,\n 42: None,\n 43: None,\n 44: None,\n 45: None,\n 46: None,\n 47: None,\n 58: None,\n 59: None,\n 60: None,\n 61: None,\n 62: None,\n 63: None,\n 64: None,\n 91: None,\n 92: None,\n 93: None,\n 94: None,\n 95: None,\n 96: None,\n 123: None,\n 124: None,\n 125: None,\n 126: None}"
     },
     "execution_count": 95,
     "metadata": {},
     "output_type": "execute_result"
    }
   ],
   "source": [
    "translator = str.maketrans('', '', string.punctuation)\n",
    "translator"
   ],
   "metadata": {
    "collapsed": false,
    "ExecuteTime": {
     "end_time": "2023-09-28T07:52:25.576778400Z",
     "start_time": "2023-09-28T07:52:25.564011400Z"
    }
   },
   "id": "5ee96c5fd60f85d2"
  },
  {
   "cell_type": "code",
   "execution_count": 110,
   "outputs": [
    {
     "data": {
      "text/plain": "                                                       Content\nDocument ID                                                   \n1            {\\r\\n   \"title\": \"Introduction to Python\",\\r\\n...\n2            {\\r\\n   \"title\": \"Data Analysis with Pandas\",\\...\n3            {\\r\\n   \"title\": \"Web Development with Flask\",...\n4            {\\r\\n   \"title\": \"Machine Learning with Scikit...\n5            {\\r\\n   \"title\": \"Data Visualization with Matp...",
      "text/html": "<div>\n<style scoped>\n    .dataframe tbody tr th:only-of-type {\n        vertical-align: middle;\n    }\n\n    .dataframe tbody tr th {\n        vertical-align: top;\n    }\n\n    .dataframe thead th {\n        text-align: right;\n    }\n</style>\n<table border=\"1\" class=\"dataframe\">\n  <thead>\n    <tr style=\"text-align: right;\">\n      <th></th>\n      <th>Content</th>\n    </tr>\n    <tr>\n      <th>Document ID</th>\n      <th></th>\n    </tr>\n  </thead>\n  <tbody>\n    <tr>\n      <th>1</th>\n      <td>{\\r\\n   \"title\": \"Introduction to Python\",\\r\\n...</td>\n    </tr>\n    <tr>\n      <th>2</th>\n      <td>{\\r\\n   \"title\": \"Data Analysis with Pandas\",\\...</td>\n    </tr>\n    <tr>\n      <th>3</th>\n      <td>{\\r\\n   \"title\": \"Web Development with Flask\",...</td>\n    </tr>\n    <tr>\n      <th>4</th>\n      <td>{\\r\\n   \"title\": \"Machine Learning with Scikit...</td>\n    </tr>\n    <tr>\n      <th>5</th>\n      <td>{\\r\\n   \"title\": \"Data Visualization with Matp...</td>\n    </tr>\n  </tbody>\n</table>\n</div>"
     },
     "execution_count": 110,
     "metadata": {},
     "output_type": "execute_result"
    }
   ],
   "source": [
    "df"
   ],
   "metadata": {
    "collapsed": false,
    "ExecuteTime": {
     "end_time": "2023-09-28T08:07:45.848679300Z",
     "start_time": "2023-09-28T08:07:45.837581200Z"
    }
   },
   "id": "dd29a88c76a5519b"
  },
  {
   "cell_type": "code",
   "execution_count": null,
   "outputs": [],
   "source": [],
   "metadata": {
    "collapsed": false
   },
   "id": "49a549b9fbf80326"
  }
 ],
 "metadata": {
  "kernelspec": {
   "name": "python3",
   "language": "python",
   "display_name": "Python 3 (ipykernel)"
  },
  "language_info": {
   "codemirror_mode": {
    "name": "ipython",
    "version": 3
   },
   "file_extension": ".py",
   "mimetype": "text/x-python",
   "name": "python",
   "nbconvert_exporter": "python",
   "pygments_lexer": "ipython3",
   "version": "3.9.2"
  }
 },
 "nbformat": 4,
 "nbformat_minor": 5
}
